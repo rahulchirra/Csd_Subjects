{
 "cells": [
  {
   "cell_type": "markdown",
   "id": "d8bcb7b3",
   "metadata": {},
   "source": [
    "# Unit-I: Introduction to Database Systems"
   ]
  },
  {
   "cell_type": "markdown",
   "id": "35e3749d",
   "metadata": {},
   "source": [
    "## Table of Contents\n",
    "1. Database System Applications\n",
    "2. Database System versus File Systems\n",
    "3. View of Data\n",
    "4. Instances and Schema\n",
    "5. Data Models\n",
    "6. Database Languages (DDL & DML)\n",
    "7. Database Users and Administrators\n",
    "8. Transaction Management\n",
    "9. Database System Structure\n",
    "10. Application Architectures\n",
    "11. History of Database Systems\n"
   ]
  },
  {
   "cell_type": "markdown",
   "id": "665782be",
   "metadata": {},
   "source": [
    "## **1. Database System Applications**\n",
    "### Explanation\n",
    "Database systems are extensively used in domains such as:\n",
    "- Banking: Customer information, account activities, loans.\n",
    "- Airlines: Reservations and ticketing.\n",
    "- Universities: Student records, course registrations.\n",
    "- Retail: Sales tracking, inventory management.\n",
    "\n",
    "### Key Points\n",
    "- Databases help manage large amounts of data efficiently.\n",
    "- Applications leverage databases for real-time operations."
   ]
  },
  {
   "cell_type": "markdown",
   "id": "58952353",
   "metadata": {},
   "source": [
    "## **2. Database System versus File Systems**\n",
    "### Explanation\n",
    "File systems manage data as isolated files, whereas database systems:\n",
    "- Provide a structured way to organize, retrieve, and manipulate data.\n",
    "- Support concurrent access and ensure data integrity.\n",
    "- Are scalable for large, complex datasets.\n",
    "\n",
    "### Comparison Table\n",
    "| Aspect          | File System                  | Database System          |\n",
    "|-----------------|-----------------------------|--------------------------|\n",
    "| Data Redundancy | High                        | Low                      |\n",
    "| Data Integrity  | Manual effort required      | Ensured via constraints  |\n",
    "| Concurrency     | Limited                     | Supported extensively    |"
   ]
  },
  {
   "cell_type": "markdown",
   "id": "2f673575",
   "metadata": {},
   "source": [
    "## **11. History of Database Systems**\n",
    "### Overview\n",
    "- 1960s: Introduction of hierarchical and network models.\n",
    "- 1970s: Emergence of relational databases (Edgar F. Codd).\n",
    "- 1980s: Standardization of SQL.\n",
    "- 2000s: Advent of NoSQL databases for big data.\n"
   ]
  },
  {
   "cell_type": "markdown",
   "id": "0676c991",
   "metadata": {},
   "source": [
    "## **Tips for Study and Practice**\n",
    "- Focus on practical examples and hands-on practice.\n",
    "- Revisit key concepts regularly.\n",
    "- Utilize online resources and tutorials for additional clarity.\n"
   ]
  }
 ],
 "metadata": {},
 "nbformat": 4,
 "nbformat_minor": 5
}
